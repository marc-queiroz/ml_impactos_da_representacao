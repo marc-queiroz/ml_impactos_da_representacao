{
 "cells": [
  {
   "cell_type": "code",
   "execution_count": 8,
   "metadata": {},
   "outputs": [
    {
     "name": "stdout",
     "output_type": "stream",
     "text": [
      "p_yes_e =  4.94423138490835e-05\n"
     ]
    }
   ],
   "source": [
    "from scipy.stats import norm\n",
    "# P(Yes|E)\n",
    "p_yes_e = 4/12*norm(72.9697, 5.2304).pdf(65)*norm(78.8395, 9.8023).pdf(70)*4/11*0.63\n",
    "print(\"p_yes_e = \", p_yes_e)"
   ]
  },
  {
   "cell_type": "code",
   "execution_count": 9,
   "metadata": {},
   "outputs": [
    {
     "name": "stdout",
     "output_type": "stream",
     "text": [
      "p_no_e =  1.711380008180603e-05\n"
     ]
    }
   ],
   "source": [
    "# P(No|E)\n",
    "p_no_e = 3/8*norm(74.8364, 7.384).pdf(65)*norm(86.1111, 9.2424).pdf(70)*4/7*0.38\n",
    "print(\"p_no_e = \", p_no_e)"
   ]
  },
  {
   "cell_type": "code",
   "execution_count": 10,
   "metadata": {},
   "outputs": [
    {
     "data": {
      "text/plain": [
       "True"
      ]
     },
     "execution_count": 10,
     "metadata": {},
     "output_type": "execute_result"
    }
   ],
   "source": [
    "p_yes_e > p_no_e"
   ]
  },
  {
   "cell_type": "markdown",
   "metadata": {},
   "source": [
    "Como **p_yes_e** > **p_no_e**, existe uma probilidade para ter jogo, dado o vetor de evento ser E = [Outlook=rain, Temp=65, Humid=70, Wind=True]"
   ]
  },
  {
   "cell_type": "markdown",
   "metadata": {},
   "source": [
    "## Normalização\n",
    "P(Yes|E) = P(Yes|E) / ( P(Yes|E) + P(No|E) )\n",
    "P(No|E) = P(No|E) / ( P(Yes|E) + P(No|E) )"
   ]
  },
  {
   "cell_type": "code",
   "execution_count": 11,
   "metadata": {},
   "outputs": [
    {
     "name": "stdout",
     "output_type": "stream",
     "text": [
      "p_yes_e_norm =  0.7428665967550834\n",
      "p_no_e_norm =  0.2571334032449166\n"
     ]
    }
   ],
   "source": [
    "p_yes_e_norm = p_yes_e / (p_yes_e + p_no_e)\n",
    "p_no_e_norm = p_no_e / (p_yes_e + p_no_e)\n",
    "print(\"p_yes_e_norm = \", p_yes_e_norm)\n",
    "print(\"p_no_e_norm = \", p_no_e_norm)"
   ]
  }
 ],
 "metadata": {
  "kernelspec": {
   "display_name": "Python 3",
   "language": "python",
   "name": "python3"
  },
  "language_info": {
   "codemirror_mode": {
    "name": "ipython",
    "version": 3
   },
   "file_extension": ".py",
   "mimetype": "text/x-python",
   "name": "python",
   "nbconvert_exporter": "python",
   "pygments_lexer": "ipython3",
   "version": "3.8.2"
  }
 },
 "nbformat": 4,
 "nbformat_minor": 4
}
