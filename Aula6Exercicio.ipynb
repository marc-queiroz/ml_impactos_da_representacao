{
 "cells": [
  {
   "cell_type": "code",
   "execution_count": 5,
   "metadata": {},
   "outputs": [
    {
     "name": "stdout",
     "output_type": "stream",
     "text": [
      "p_yes_e =  0.00011654259692998255\n"
     ]
    }
   ],
   "source": [
    "from scipy.stats import norm\n",
    "# P(Yes|E)\n",
    "p_yes_e = 4/7*norm(72.9697, 5.2304).pdf(65)*norm(78.8395, 9.8023).pdf(70)*4/8*0.63\n",
    "print(\"p_yes_e = \", p_yes_e)"
   ]
  },
  {
   "cell_type": "code",
   "execution_count": 6,
   "metadata": {},
   "outputs": [
    {
     "name": "stdout",
     "output_type": "stream",
     "text": [
      "p_no_e =  1.7113800081806027e-05\n"
     ]
    }
   ],
   "source": [
    "# P(No|E)\n",
    "p_no_e = 3/7*norm(74.8364, 7.384).pdf(65)*norm(86.1111, 9.2424).pdf(70)*4/8*0.38\n",
    "print(\"p_no_e = \", p_no_e)"
   ]
  },
  {
   "cell_type": "markdown",
   "metadata": {},
   "source": [
    "Como 0.00018498824909521039 > 4.503631600475271e-05, existe uma probilidade para ter jogo, dado o vetor de evento ser E = [Outlook=rain, Temp=65, Humid=70, Wind=True]"
   ]
  },
  {
   "cell_type": "markdown",
   "metadata": {},
   "source": [
    "## Normalização\n",
    "P(Yes|E) = P(Yes|E) / ( P(Yes|E) + P(No|E) )\n",
    "P(No|E) = P(No|E) / ( P(Yes|E) + P(No|E) )"
   ]
  },
  {
   "cell_type": "code",
   "execution_count": 7,
   "metadata": {},
   "outputs": [
    {
     "name": "stdout",
     "output_type": "stream",
     "text": [
      "p_yes_e_norm =  0.871956745322885\n",
      "p_no_e_norm =  0.12804325467711491\n"
     ]
    }
   ],
   "source": [
    "p_yes_e_norm = p_yes_e / (p_yes_e + p_no_e)\n",
    "p_no_e_norm = p_no_e / (p_yes_e + p_no_e)\n",
    "print(\"p_yes_e_norm = \", p_yes_e_norm)\n",
    "print(\"p_no_e_norm = \", p_no_e_norm)"
   ]
  }
 ],
 "metadata": {
  "kernelspec": {
   "display_name": "Python 3",
   "language": "python",
   "name": "python3"
  },
  "language_info": {
   "codemirror_mode": {
    "name": "ipython",
    "version": 3
   },
   "file_extension": ".py",
   "mimetype": "text/x-python",
   "name": "python",
   "nbconvert_exporter": "python",
   "pygments_lexer": "ipython3",
   "version": "3.8.2"
  }
 },
 "nbformat": 4,
 "nbformat_minor": 4
}
