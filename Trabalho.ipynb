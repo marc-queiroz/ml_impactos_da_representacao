{
 "cells": [
  {
   "cell_type": "markdown",
   "metadata": {},
   "source": [
    "# Algoritmo para extrair características das imagens"
   ]
  },
  {
   "cell_type": "code",
   "execution_count": 36,
   "metadata": {},
   "outputs": [],
   "source": [
    "import cv2\n",
    "import os\n",
    "import numpy as np\n",
    "import random\n",
    "\n",
    "def load_images(path_images, fout, dsize):\n",
    "    # print ('Loading images...')\n",
    "    archives = os.listdir(path_images)\n",
    "    images = []\n",
    "    arq = open('digits/files.txt')\n",
    "    lines = arq.readlines()\n",
    "    # print ('Extracting dummy features')\n",
    "    for line in lines:\n",
    "        aux = line.split('/')[1]\n",
    "        image_name = aux.split(' ')[0]\n",
    "        label = line.split(' ')[1]\n",
    "        label = label.split('\\n')\n",
    "        for archive in archives:\n",
    "            if archive == image_name:\n",
    "                image = cv2.imread(path_images +'/'+ archive, 0)\n",
    "                rawpixel(image, label[0], fout, dsize)\n",
    "                #images.append((image, label))\n",
    "    # print ('Done. Take a look into features.txt')\n",
    "    return images\n",
    "\n",
    "#########################################################\n",
    "# Usa o valor dos pixels como caracteristica\n",
    "#\n",
    "#########################################################\n",
    "\n",
    "def rawpixel(image, label, fout, dsize):\n",
    "    if not (dsize):\n",
    "        ## novas dimensoes\n",
    "        X= 20\n",
    "        Y= 10\n",
    "    else:\n",
    "        X = dsize[0]\n",
    "        Y = dsize[1]\n",
    "\n",
    "    image = cv2.resize(image, (X,Y) )\n",
    "    # cv2.imshow(\"image\", image )\n",
    "    # cv2.waitKey(0)\n",
    "    # cv2.destroyAllWindows()\n",
    "\n",
    "    fout.write(str(label) +  \" \")\n",
    "\n",
    "    indice = 0\n",
    "    for i in range(Y):\n",
    "        #vet= []\n",
    "            for j in range(X):\n",
    "                if( image[i][j] > 128):\n",
    "                    v = 0\n",
    "                else:\n",
    "                    v = 1\n",
    "                    #vet.append(v)\n",
    "\n",
    "                fout.write(str(indice)+\":\"+str(v)+\" \")\n",
    "                indice = indice+1\n",
    "\n",
    "    fout.write(\"\\n\")\n",
    "\n",
    "\n",
    "def features_extraction(dsize=None):\n",
    "    fout = open(\"features.txt\",\"w\")\n",
    "    images = load_images('digits/data', fout, dsize)\n",
    "    fout.close"
   ]
  },
  {
   "cell_type": "markdown",
   "metadata": {},
   "source": [
    "# Algoritmo para aplicar knn e extrair as métricas - acurácia e matriz confusão"
   ]
  },
  {
   "cell_type": "code",
   "execution_count": 115,
   "metadata": {},
   "outputs": [],
   "source": [
    "import sys\n",
    "import numpy\n",
    "from sklearn.model_selection import train_test_split\n",
    "from sklearn.neighbors import KNeighborsClassifier\n",
    "from sklearn.metrics import confusion_matrix\n",
    "from sklearn.metrics import classification_report\n",
    "from sklearn.datasets import load_svmlight_file\n",
    "from sklearn import preprocessing\n",
    "\n",
    "def knn(data, k):\n",
    "        # loads data\n",
    "        # print (\"Loading data...\")\n",
    "        X_data, y_data = load_svmlight_file(data)\n",
    "        # splits data\n",
    "        # print (\"Spliting data...\")\n",
    "        X_train, X_test, y_train, y_test =  train_test_split(X_data, y_data, test_size=0.25, random_state = 5)\n",
    "\n",
    "        X_train_dense = X_train.toarray()\n",
    "        X_test_dense = X_test.toarray()\n",
    "\n",
    "        # fazer a normalizacao dos dados #######\n",
    "        scaler = preprocessing.MinMaxScaler()\n",
    "        X_train = scaler.fit_transform(X_train_dense)\n",
    "        X_test = scaler.fit_transform(X_test_dense)\n",
    "        \n",
    "        # cria um kNN\n",
    "        neigh = KNeighborsClassifier(n_neighbors=k, metric='euclidean')\n",
    "\n",
    "        # print ('Fitting knn')\n",
    "        neigh.fit(X_train, y_train)\n",
    "\n",
    "        # predicao do classificador\n",
    "        # print ('Predicting...')\n",
    "        y_pred = neigh.predict(X_test)\n",
    "\n",
    "        # mostra o resultado do classificador na base de teste\n",
    "        accuracy =  neigh.score(X_test, y_test)\n",
    "        # print ('Accuracy: ',  accuracy)\n",
    "\n",
    "        # cria a matriz de confusao\n",
    "        cm = confusion_matrix(y_test, y_pred)\n",
    "        print (cm)\n",
    "        print(classification_report(y_test, y_pred, labels=[0,1,2,3,4,5,6,7,8,9]))\n",
    "        return accuracy"
   ]
  },
  {
   "cell_type": "code",
   "execution_count": 39,
   "metadata": {},
   "outputs": [
    {
     "name": "stdout",
     "output_type": "stream",
     "text": [
      "[[0. 0. 0. ... 0. 0. 0.]\n",
      " [0. 0. 0. ... 0. 0. 0.]\n",
      " [0. 0. 0. ... 0. 0. 0.]\n",
      " ...\n",
      " [0. 0. 0. ... 0. 0. 0.]\n",
      " [0. 0. 0. ... 0. 0. 0.]\n",
      " [0. 0. 0. ... 0. 0. 0.]]\n"
     ]
    }
   ],
   "source": [
    "result = np.zeros((100,100))\n",
    "for i in range(10,100,10) :\n",
    "    for j in range(10,100,10):\n",
    "        features_extraction((i,j))\n",
    "        result[i][j] = knn(\"features.txt\")\n",
    "print(result)"
   ]
  },
  {
   "cell_type": "code",
   "execution_count": 35,
   "metadata": {},
   "outputs": [
    {
     "name": "stdout",
     "output_type": "stream",
     "text": [
      "0.908\n"
     ]
    },
    {
     "data": {
      "text/plain": [
       "0.908"
      ]
     },
     "execution_count": 35,
     "metadata": {},
     "output_type": "execute_result"
    }
   ],
   "source": [
    "print(np.amax(result))\n",
    "np.where(result == np.amax(result))\n",
    "result[10][15]"
   ]
  },
  {
   "cell_type": "code",
   "execution_count": 110,
   "metadata": {},
   "outputs": [
    {
     "name": "stdout",
     "output_type": "stream",
     "text": [
      "0.925\n"
     ]
    },
    {
     "data": {
      "text/plain": [
       "(array([20]), array([70]))"
      ]
     },
     "execution_count": 110,
     "metadata": {},
     "output_type": "execute_result"
    }
   ],
   "source": [
    "print(np.amax(result))\n",
    "np.where(result == np.amax(result))"
   ]
  },
  {
   "cell_type": "code",
   "execution_count": 42,
   "metadata": {},
   "outputs": [
    {
     "data": {
      "text/plain": [
       "(array([20]), array([70]))"
      ]
     },
     "execution_count": 42,
     "metadata": {},
     "output_type": "execute_result"
    }
   ],
   "source": [
    "np.where(result == np.amax(result))"
   ]
  },
  {
   "cell_type": "code",
   "execution_count": 43,
   "metadata": {},
   "outputs": [
    {
     "data": {
      "text/plain": [
       "0.925"
      ]
     },
     "execution_count": 43,
     "metadata": {},
     "output_type": "execute_result"
    }
   ],
   "source": [
    "result[20][70]"
   ]
  },
  {
   "cell_type": "code",
   "execution_count": 44,
   "metadata": {},
   "outputs": [
    {
     "name": "stdout",
     "output_type": "stream",
     "text": [
      "[[0. 0. 0. ... 0. 0. 0.]\n",
      " [0. 0. 0. ... 0. 0. 0.]\n",
      " [0. 0. 0. ... 0. 0. 0.]\n",
      " ...\n",
      " [0. 0. 0. ... 0. 0. 0.]\n",
      " [0. 0. 0. ... 0. 0. 0.]\n",
      " [0. 0. 0. ... 0. 0. 0.]]\n"
     ]
    }
   ],
   "source": [
    "result_1 = np.zeros((100,100))\n",
    "for i in range(15,25,1) :\n",
    "    for j in range(65,75,1):\n",
    "        features_extraction((i,j))\n",
    "        result_1[i][j] = knn(\"features.txt\")\n",
    "print(result_1)"
   ]
  },
  {
   "cell_type": "code",
   "execution_count": 46,
   "metadata": {},
   "outputs": [
    {
     "name": "stdout",
     "output_type": "stream",
     "text": [
      "0.928\n"
     ]
    },
    {
     "data": {
      "text/plain": [
       "(array([20]), array([69]))"
      ]
     },
     "execution_count": 46,
     "metadata": {},
     "output_type": "execute_result"
    }
   ],
   "source": [
    "print(np.amax(result_1))\n",
    "np.where(result_1 == np.amax(result_1))"
   ]
  },
  {
   "cell_type": "code",
   "execution_count": 116,
   "metadata": {},
   "outputs": [
    {
     "name": "stdout",
     "output_type": "stream",
     "text": [
      "[[43  0  0  0  0  1  0  0  0  0]\n",
      " [ 0 42  0  0  0  0  0  0  0  0]\n",
      " [ 1  2 53  0  0  0  0  1  0  0]\n",
      " [ 0  0  0 61  0  0  0  1  0  0]\n",
      " [ 0  3  0  0 50  0  0  0  0  0]\n",
      " [ 0  0  0  4  0 35  0  0  0  0]\n",
      " [ 1  1  0  0  0  0 57  0  0  0]\n",
      " [ 0  0  0  0  0  0  0 44  0  0]\n",
      " [ 0  1  0  1  0  1  1  1 37  0]\n",
      " [ 0  0  0  0  2  0  0  3  0 53]]\n",
      "              precision    recall  f1-score   support\n",
      "\n",
      "           0       0.96      0.98      0.97        44\n",
      "           1       0.86      1.00      0.92        42\n",
      "           2       1.00      0.93      0.96        57\n",
      "           3       0.92      0.98      0.95        62\n",
      "           4       0.96      0.94      0.95        53\n",
      "           5       0.95      0.90      0.92        39\n",
      "           6       0.98      0.97      0.97        59\n",
      "           7       0.88      1.00      0.94        44\n",
      "           8       1.00      0.88      0.94        42\n",
      "           9       1.00      0.91      0.95        58\n",
      "\n",
      "    accuracy                           0.95       500\n",
      "   macro avg       0.95      0.95      0.95       500\n",
      "weighted avg       0.95      0.95      0.95       500\n",
      "\n"
     ]
    },
    {
     "data": {
      "text/plain": [
       "0.95"
      ]
     },
     "execution_count": 116,
     "metadata": {},
     "output_type": "execute_result"
    }
   ],
   "source": [
    "features_extraction((20,69))\n",
    "knn(\"features.txt\", 1)"
   ]
  },
  {
   "cell_type": "code",
   "execution_count": null,
   "metadata": {},
   "outputs": [],
   "source": []
  },
  {
   "cell_type": "code",
   "execution_count": 107,
   "metadata": {},
   "outputs": [
    {
     "data": {
      "image/png": "[encoded data removed]",
      "text/plain": [
       "<Figure size 432x288 with 1 Axes>"
      ]
     },
     "metadata": {
      "needs_background": "light"
     },
     "output_type": "display_data"
    }
   ],
   "source": [
    "import matplotlib.pyplot as plt\n",
    "temp = plt.imshow(result)"
   ]
  },
  {
   "cell_type": "code",
   "execution_count": 109,
   "metadata": {},
   "outputs": [
    {
     "data": {
      "image/png": "[encoded data removed]",
      "text/plain": [
       "<Figure size 432x288 with 1 Axes>"
      ]
     },
     "metadata": {
      "needs_background": "light"
     },
     "output_type": "display_data"
    }
   ],
   "source": [
    "plt.imsave('test.png', result_1)\n",
    "plt.imshow(result_1)\n",
    "plt.show()"
   ]
  },
  {
   "cell_type": "code",
   "execution_count": 91,
   "metadata": {},
   "outputs": [
    {
     "data": {
      "text/plain": [
       "(100, 100)"
      ]
     },
     "execution_count": 91,
     "metadata": {},
     "output_type": "execute_result"
    }
   ],
   "source": [
    "result.shape"
   ]
  },
  {
   "cell_type": "code",
   "execution_count": 95,
   "metadata": {},
   "outputs": [
    {
     "name": "stdout",
     "output_type": "stream",
     "text": [
      "[[ 0.  0.  0.]\n",
      " [ 1.  0.  0.]\n",
      " [ 2.  0.  0.]\n",
      " ...\n",
      " [97. 99.  0.]\n",
      " [98. 99.  0.]\n",
      " [99. 99.  0.]]\n"
     ]
    },
    {
     "ename": "IndexError",
     "evalue": "tuple index out of range",
     "output_type": "error",
     "traceback": [
      "\u001b[0;31m---------------------------------------------------------------------------\u001b[0m",
      "\u001b[0;31mIndexError\u001b[0m                                Traceback (most recent call last)",
      "\u001b[0;32m<ipython-input-95-32f6c90b9c3d>\u001b[0m in \u001b[0;36m<module>\u001b[0;34m\u001b[0m\n\u001b[1;32m     17\u001b[0m \u001b[0mx\u001b[0m \u001b[0;34m=\u001b[0m \u001b[0mnp\u001b[0m\u001b[0;34m.\u001b[0m\u001b[0marange\u001b[0m\u001b[0;34m(\u001b[0m\u001b[0mvolume\u001b[0m\u001b[0;34m.\u001b[0m\u001b[0mshape\u001b[0m\u001b[0;34m[\u001b[0m\u001b[0;36m0\u001b[0m\u001b[0;34m]\u001b[0m\u001b[0;34m)\u001b[0m\u001b[0;34m[\u001b[0m\u001b[0;34m:\u001b[0m\u001b[0;34m,\u001b[0m \u001b[0;32mNone\u001b[0m\u001b[0;34m,\u001b[0m \u001b[0;32mNone\u001b[0m\u001b[0;34m]\u001b[0m\u001b[0;34m\u001b[0m\u001b[0;34m\u001b[0m\u001b[0m\n\u001b[1;32m     18\u001b[0m \u001b[0my\u001b[0m \u001b[0;34m=\u001b[0m \u001b[0mnp\u001b[0m\u001b[0;34m.\u001b[0m\u001b[0marange\u001b[0m\u001b[0;34m(\u001b[0m\u001b[0mvolume\u001b[0m\u001b[0;34m.\u001b[0m\u001b[0mshape\u001b[0m\u001b[0;34m[\u001b[0m\u001b[0;36m1\u001b[0m\u001b[0;34m]\u001b[0m\u001b[0;34m)\u001b[0m\u001b[0;34m[\u001b[0m\u001b[0;32mNone\u001b[0m\u001b[0;34m,\u001b[0m \u001b[0;34m:\u001b[0m\u001b[0;34m,\u001b[0m \u001b[0;32mNone\u001b[0m\u001b[0;34m]\u001b[0m\u001b[0;34m\u001b[0m\u001b[0;34m\u001b[0m\u001b[0m\n\u001b[0;32m---> 19\u001b[0;31m \u001b[0mz\u001b[0m \u001b[0;34m=\u001b[0m \u001b[0mnp\u001b[0m\u001b[0;34m.\u001b[0m\u001b[0marange\u001b[0m\u001b[0;34m(\u001b[0m\u001b[0mvolume\u001b[0m\u001b[0;34m.\u001b[0m\u001b[0mshape\u001b[0m\u001b[0;34m[\u001b[0m\u001b[0;36m2\u001b[0m\u001b[0;34m]\u001b[0m\u001b[0;34m)\u001b[0m\u001b[0;34m[\u001b[0m\u001b[0;32mNone\u001b[0m\u001b[0;34m,\u001b[0m \u001b[0;32mNone\u001b[0m\u001b[0;34m,\u001b[0m \u001b[0;34m:\u001b[0m\u001b[0;34m]\u001b[0m\u001b[0;34m\u001b[0m\u001b[0;34m\u001b[0m\u001b[0m\n\u001b[0m\u001b[1;32m     20\u001b[0m \u001b[0mx\u001b[0m\u001b[0;34m,\u001b[0m \u001b[0my\u001b[0m\u001b[0;34m,\u001b[0m \u001b[0mz\u001b[0m \u001b[0;34m=\u001b[0m \u001b[0mnp\u001b[0m\u001b[0;34m.\u001b[0m\u001b[0mbroadcast_arrays\u001b[0m\u001b[0;34m(\u001b[0m\u001b[0mx\u001b[0m\u001b[0;34m,\u001b[0m \u001b[0my\u001b[0m\u001b[0;34m,\u001b[0m \u001b[0mz\u001b[0m\u001b[0;34m)\u001b[0m\u001b[0;34m\u001b[0m\u001b[0;34m\u001b[0m\u001b[0m\n\u001b[1;32m     21\u001b[0m \u001b[0;34m\u001b[0m\u001b[0m\n",
      "\u001b[0;31mIndexError\u001b[0m: tuple index out of range"
     ]
    }
   ],
   "source": [
    "import matplotlib as mpl\n",
    "from mpl_toolkits.mplot3d import Axes3D\n",
    "import numpy as np\n",
    "import matplotlib.pyplot as plt\n",
    "\n",
    "volume = np.copy(result)\n",
    "\n",
    "m,n = volume.shape\n",
    "R,C = np.mgrid[:m,:n]\n",
    "volume = np.column_stack((C.ravel(),R.ravel(), volume.ravel()))\n",
    "\n",
    "print(volume)\n",
    "\n",
    "# Create the x, y, and z coordinate arrays.  We use \n",
    "# numpy's broadcasting to do all the hard work for us.\n",
    "# We could shorten this even more by using np.meshgrid.\n",
    "x = np.arange(volume.shape[0])[:, None, None]\n",
    "y = np.arange(volume.shape[1])[None, :, None]\n",
    "z = np.arange(volume.shape[2])[None, None, :]\n",
    "x, y, z = np.broadcast_arrays(x, y, z)\n",
    "\n",
    "# Turn the volumetric data into an RGB array that's\n",
    "# just grayscale.  There might be better ways to make\n",
    "# ax.scatter happy.\n",
    "c = np.tile(volume.ravel()[:, None], [1, 3])\n",
    "\n",
    "# Do the plotting in a single call.\n",
    "fig = plt.figure()\n",
    "ax = fig.gca(projection='3d')\n",
    "ax.scatter(x.ravel(),\n",
    "           y.ravel(),\n",
    "           z.ravel(),\n",
    "           c=c)"
   ]
  },
  {
   "cell_type": "code",
   "execution_count": 99,
   "metadata": {},
   "outputs": [
    {
     "name": "stdout",
     "output_type": "stream",
     "text": [
      "[[[0.14076369 0.51326437 0.00183404 0.21423558 0.50140848 0.93052508\n",
      "   0.73096092 0.98281783]\n",
      "  [0.81380315 0.39726962 0.5917429  0.37493833 0.64055827 0.96396494\n",
      "   0.06411723 0.69115132]\n",
      "  [0.03184287 0.0559682  0.18926005 0.3252333  0.74171664 0.54235107\n",
      "   0.14690437 0.42803121]\n",
      "  [0.80413392 0.82401804 0.82082131 0.50889762 0.15907176 0.70395191\n",
      "   0.73627642 0.63696694]\n",
      "  [0.5745181  0.51174013 0.43072347 0.24716167 0.98019795 0.02024346\n",
      "   0.70095509 0.73594105]\n",
      "  [0.9139419  0.75261496 0.83550102 0.88850673 0.84141196 0.42441184\n",
      "   0.16470199 0.5559494 ]\n",
      "  [0.80453366 0.86618337 0.04682526 0.64317127 0.84205831 0.63623555\n",
      "   0.32247234 0.05453876]\n",
      "  [0.19058314 0.86958414 0.40822655 0.78340544 0.58800561 0.47918316\n",
      "   0.71835085 0.61496649]]\n",
      "\n",
      " [[0.01482875 0.466771   0.58929767 0.36961807 0.88574271 0.66498113\n",
      "   0.64004718 0.78086128]\n",
      "  [0.30436637 0.18563387 0.50027576 0.29400487 0.68744331 0.57011189\n",
      "   0.73120923 0.0358511 ]\n",
      "  [0.04247614 0.88334165 0.24968778 0.17252701 0.69493938 0.40867843\n",
      "   0.93658198 0.65027398]\n",
      "  [0.63600657 0.17810624 0.69688322 0.35560312 0.23644741 0.2155716\n",
      "   0.4970024  0.74444818]\n",
      "  [0.43938785 0.09539491 0.65535451 0.24602126 0.41168855 0.44517797\n",
      "   0.78800276 0.96787736]\n",
      "  [0.04071076 0.31413714 0.8849084  0.60104877 0.86469867 0.15106593\n",
      "   0.1622932  0.0213163 ]\n",
      "  [0.05962646 0.38694967 0.10276793 0.20393112 0.01944215 0.82867114\n",
      "   0.85617094 0.05901637]\n",
      "  [0.46866219 0.71579413 0.89955358 0.9032862  0.54544208 0.39866595\n",
      "   0.44912371 0.55087919]]\n",
      "\n",
      " [[0.51148737 0.27276505 0.13297109 0.53013465 0.975165   0.94785511\n",
      "   0.09029029 0.59207867]\n",
      "  [0.70027959 0.67868654 0.06121838 0.06209941 0.70733243 0.05418652\n",
      "   0.15786089 0.83709232]\n",
      "  [0.34565864 0.08073108 0.35097326 0.66511836 0.04446043 0.51727902\n",
      "   0.90129563 0.83378822]\n",
      "  [0.28694078 0.23695003 0.792228   0.432584   0.71803168 0.85655955\n",
      "   0.21901663 0.81910797]\n",
      "  [0.56667349 0.50360876 0.31448122 0.19192386 0.53392938 0.70537797\n",
      "   0.90933125 0.84689419]\n",
      "  [0.95351864 0.51845413 0.83607298 0.86124897 0.21102727 0.66261018\n",
      "   0.06720844 0.7481503 ]\n",
      "  [0.67693628 0.33262206 0.96699194 0.14497113 0.3655861  0.63649712\n",
      "   0.95908285 0.60043772]\n",
      "  [0.15433664 0.09994583 0.20953816 0.711239   0.17730173 0.52255938\n",
      "   0.34202688 0.75712249]]\n",
      "\n",
      " [[0.11253382 0.1243625  0.61609824 0.98223128 0.4793448  0.38585455\n",
      "   0.59109365 0.29100906]\n",
      "  [0.39182358 0.62001996 0.41557495 0.79411474 0.27779014 0.69389061\n",
      "   0.76580898 0.12221689]\n",
      "  [0.66725452 0.86458006 0.22312194 0.98187567 0.30528274 0.43369567\n",
      "   0.9999324  0.34810925]\n",
      "  [0.24815458 0.02493068 0.69374931 0.98332459 0.78048937 0.19553741\n",
      "   0.96442283 0.67402479]\n",
      "  [0.57836447 0.87977856 0.66609102 0.05240589 0.91102902 0.28752679\n",
      "   0.12854564 0.02455545]\n",
      "  [0.79199174 0.78026815 0.38301143 0.12448945 0.92728691 0.79308329\n",
      "   0.78952927 0.79202145]\n",
      "  [0.98470683 0.19557245 0.59322417 0.56638494 0.47159184 0.08753469\n",
      "   0.63715541 0.14960494]\n",
      "  [0.7878272  0.62414144 0.30515337 0.37963126 0.42067579 0.04015622\n",
      "   0.11314139 0.11715218]]\n",
      "\n",
      " [[0.17192965 0.32816362 0.62362839 0.86484601 0.36321186 0.73213775\n",
      "   0.16723578 0.58371876]\n",
      "  [0.9754524  0.20189128 0.51184035 0.87335932 0.74702772 0.4049113\n",
      "   0.27458576 0.97411124]\n",
      "  [0.33639516 0.26731883 0.05356545 0.67194267 0.24652685 0.90103651\n",
      "   0.10555185 0.3711938 ]\n",
      "  [0.44494944 0.13348749 0.68739754 0.64515049 0.32334551 0.03639622\n",
      "   0.13113419 0.78594852]\n",
      "  [0.03824626 0.02940905 0.41661664 0.43513151 0.20643676 0.87845775\n",
      "   0.8031186  0.08174538]\n",
      "  [0.93285541 0.59050816 0.8734072  0.57860323 0.66307077 0.69915615\n",
      "   0.33862965 0.72605673]\n",
      "  [0.90457115 0.97893846 0.63030919 0.46915403 0.26989728 0.53674382\n",
      "   0.89714774 0.40225206]\n",
      "  [0.74979784 0.4884707  0.484478   0.77922903 0.7198211  0.14243526\n",
      "   0.10243096 0.48428514]]\n",
      "\n",
      " [[0.84805677 0.77501621 0.01340471 0.04182205 0.67229355 0.73761319\n",
      "   0.48244601 0.16051816]\n",
      "  [0.91544961 0.87855419 0.70238162 0.88862209 0.9172501  0.29883511\n",
      "   0.82422023 0.8863952 ]\n",
      "  [0.38271891 0.31259471 0.48977503 0.08822733 0.54082459 0.78349479\n",
      "   0.42064804 0.49682699]\n",
      "  [0.65429505 0.93173697 0.31342883 0.33358856 0.48557534 0.60492283\n",
      "   0.66541579 0.61231267]\n",
      "  [0.95925352 0.73149926 0.13556378 0.21396946 0.67058117 0.47194505\n",
      "   0.90970119 0.13101987]\n",
      "  [0.38739534 0.64748409 0.52955665 0.21148669 0.12588219 0.15433424\n",
      "   0.33128827 0.22050649]\n",
      "  [0.32688187 0.37183375 0.96829897 0.90119554 0.13485345 0.15740028\n",
      "   0.7282922  0.27171979]\n",
      "  [0.40598313 0.58828431 0.69579408 0.87704032 0.35551825 0.89928014\n",
      "   0.60908071 0.74961115]]\n",
      "\n",
      " [[0.17449639 0.08332083 0.55423183 0.10628347 0.17465828 0.21227062\n",
      "   0.04114784 0.1351385 ]\n",
      "  [0.64510284 0.66151123 0.36481348 0.41208059 0.82975594 0.93989712\n",
      "   0.95256378 0.49130389]\n",
      "  [0.49125473 0.09138795 0.46273886 0.67291086 0.33506234 0.30568219\n",
      "   0.88717818 0.68319904]\n",
      "  [0.83482208 0.89764374 0.92257238 0.59221567 0.96514427 0.74432747\n",
      "   0.22218933 0.81661823]\n",
      "  [0.18554718 0.39978725 0.64860637 0.80515466 0.58251589 0.2466032\n",
      "   0.5868171  0.01926021]\n",
      "  [0.11125502 0.24295924 0.57962136 0.74682696 0.49100726 0.93901147\n",
      "   0.36513026 0.66501993]\n",
      "  [0.48013202 0.05261224 0.5752183  0.81644047 0.4801337  0.7950708\n",
      "   0.62004766 0.22344966]\n",
      "  [0.08984714 0.93993402 0.69696386 0.83443941 0.83255864 0.45927237\n",
      "   0.34379309 0.52668102]]\n",
      "\n",
      " [[0.77005071 0.78458831 0.87833493 0.32769437 0.79267281 0.74049617\n",
      "   0.72132816 0.64082477]\n",
      "  [0.03501217 0.90754922 0.88150423 0.90927961 0.94685593 0.69733121\n",
      "   0.72889649 0.81913171]\n",
      "  [0.87193832 0.86621042 0.71999039 0.12982503 0.50132862 0.10885861\n",
      "   0.41897834 0.23512325]\n",
      "  [0.99909923 0.65020341 0.93099339 0.18922804 0.70443809 0.73309064\n",
      "   0.0845623  0.33444629]\n",
      "  [0.8764318  0.40452428 0.44172419 0.47381067 0.70895835 0.57791041\n",
      "   0.57948323 0.74019566]\n",
      "  [0.8374619  0.13987649 0.57112836 0.32909348 0.19767392 0.38756725\n",
      "   0.84032058 0.89848268]\n",
      "  [0.26460981 0.13092606 0.37201491 0.22668715 0.5635177  0.33151384\n",
      "   0.28774047 0.06854292]\n",
      "  [0.41588091 0.25508574 0.83193685 0.422019   0.68207878 0.97675188\n",
      "   0.78313767 0.8435292 ]]]\n"
     ]
    }
   ],
   "source": [
    "volume = np.random.rand(N, N, N)\n",
    "print(volume)"
   ]
  },
  {
   "cell_type": "code",
   "execution_count": 119,
   "metadata": {},
   "outputs": [
    {
     "data": {
      "text/plain": [
       "array([0.14076369, 0.51326437, 0.00183404, 0.21423558, 0.50140848,\n",
       "       0.93052508, 0.73096092, 0.98281783])"
      ]
     },
     "execution_count": 119,
     "metadata": {},
     "output_type": "execute_result"
    }
   ],
   "source": [
    "volume[0][0]"
   ]
  },
  {
   "cell_type": "code",
   "execution_count": 151,
   "metadata": {},
   "outputs": [
    {
     "name": "stdout",
     "output_type": "stream",
     "text": [
      "[[ 0.  0.  0.  0.  0.  0.  0.  0.  0.  0.]\n",
      " [11. 11. 11. 11. 11. 11. 11. 11. 11. 11.]\n",
      " [22. 22. 22. 22. 22. 22. 22. 22. 22. 22.]\n",
      " [33. 33. 33. 33. 33. 33. 33. 33. 33. 33.]\n",
      " [44. 44. 44. 44. 44. 44. 44. 44. 44. 44.]\n",
      " [55. 55. 55. 55. 55. 55. 55. 55. 55. 55.]\n",
      " [66. 66. 66. 66. 66. 66. 66. 66. 66. 66.]\n",
      " [77. 77. 77. 77. 77. 77. 77. 77. 77. 77.]\n",
      " [88. 88. 88. 88. 88. 88. 88. 88. 88. 88.]\n",
      " [99. 99. 99. 99. 99. 99. 99. 99. 99. 99.]]\n"
     ]
    },
    {
     "ename": "IndexError",
     "evalue": "arrays used as indices must be of integer (or boolean) type",
     "output_type": "error",
     "traceback": [
      "\u001b[0;31m---------------------------------------------------------------------------\u001b[0m",
      "\u001b[0;31mIndexError\u001b[0m                                Traceback (most recent call last)",
      "\u001b[0;32m<ipython-input-151-a4bb3933ffc9>\u001b[0m in \u001b[0;36m<module>\u001b[0;34m\u001b[0m\n\u001b[1;32m     13\u001b[0m \u001b[0mX\u001b[0m\u001b[0;34m,\u001b[0m \u001b[0mY\u001b[0m \u001b[0;34m=\u001b[0m \u001b[0mnp\u001b[0m\u001b[0;34m.\u001b[0m\u001b[0mmeshgrid\u001b[0m\u001b[0;34m(\u001b[0m\u001b[0mx\u001b[0m\u001b[0;34m,\u001b[0m \u001b[0my\u001b[0m\u001b[0;34m)\u001b[0m\u001b[0;34m\u001b[0m\u001b[0;34m\u001b[0m\u001b[0m\n\u001b[1;32m     14\u001b[0m \u001b[0;31m#print(X[9][9])\u001b[0m\u001b[0;34m\u001b[0m\u001b[0;34m\u001b[0m\u001b[0;34m\u001b[0m\u001b[0m\n\u001b[0;32m---> 15\u001b[0;31m \u001b[0mZ\u001b[0m \u001b[0;34m=\u001b[0m \u001b[0mf\u001b[0m\u001b[0;34m(\u001b[0m\u001b[0mX\u001b[0m\u001b[0;34m,\u001b[0m \u001b[0mY\u001b[0m\u001b[0;34m)\u001b[0m\u001b[0;34m\u001b[0m\u001b[0;34m\u001b[0m\u001b[0m\n\u001b[0m",
      "\u001b[0;32m<ipython-input-151-a4bb3933ffc9>\u001b[0m in \u001b[0;36mf\u001b[0;34m(x, y)\u001b[0m\n\u001b[1;32m      5\u001b[0m     \u001b[0;32mfor\u001b[0m \u001b[0mi\u001b[0m \u001b[0;32min\u001b[0m \u001b[0mx\u001b[0m\u001b[0;34m:\u001b[0m\u001b[0;34m\u001b[0m\u001b[0;34m\u001b[0m\u001b[0m\n\u001b[1;32m      6\u001b[0m         \u001b[0;32mfor\u001b[0m \u001b[0mj\u001b[0m \u001b[0;32min\u001b[0m \u001b[0my\u001b[0m\u001b[0;34m:\u001b[0m\u001b[0;34m\u001b[0m\u001b[0;34m\u001b[0m\u001b[0m\n\u001b[0;32m----> 7\u001b[0;31m             \u001b[0mmatrix\u001b[0m\u001b[0;34m[\u001b[0m\u001b[0mi\u001b[0m\u001b[0;34m]\u001b[0m\u001b[0;34m[\u001b[0m\u001b[0mj\u001b[0m\u001b[0;34m]\u001b[0m \u001b[0;34m=\u001b[0m \u001b[0mresult\u001b[0m\u001b[0;34m[\u001b[0m\u001b[0mi\u001b[0m\u001b[0;34m]\u001b[0m\u001b[0;34m[\u001b[0m\u001b[0mj\u001b[0m\u001b[0;34m]\u001b[0m\u001b[0;34m\u001b[0m\u001b[0;34m\u001b[0m\u001b[0m\n\u001b[0m\u001b[1;32m      8\u001b[0m     \u001b[0;32mreturn\u001b[0m \u001b[0mmatrix\u001b[0m\u001b[0;34m\u001b[0m\u001b[0;34m\u001b[0m\u001b[0m\n\u001b[1;32m      9\u001b[0m \u001b[0;34m\u001b[0m\u001b[0m\n",
      "\u001b[0;31mIndexError\u001b[0m: arrays used as indices must be of integer (or boolean) type"
     ]
    }
   ],
   "source": [
    "from math import floor\n",
    "def f(x, y):\n",
    "    matrix = np.zeros((len(x),len(y)))\n",
    "    print(y)\n",
    "    for i in x:\n",
    "        for j in y:\n",
    "            matrix[i][j] = result[i][j]        \n",
    "    return matrix\n",
    "\n",
    "x = np.linspace(0, 99, 10)\n",
    "y = np.linspace(0, 99, 10)\n",
    "\n",
    "X, Y = np.meshgrid(x, y)\n",
    "#print(X[9][9])\n",
    "Z = f(X, Y)"
   ]
  },
  {
   "cell_type": "code",
   "execution_count": 125,
   "metadata": {},
   "outputs": [
    {
     "name": "stdout",
     "output_type": "stream",
     "text": [
      "[ 0. 11. 22. 33. 44. 55. 66. 77. 88. 99.]\n"
     ]
    }
   ],
   "source": [
    "x = np.linspace(0,99,10)\n",
    "print(x)"
   ]
  }
 ],
 "metadata": {
  "kernelspec": {
   "display_name": "Python 3",
   "language": "python",
   "name": "python3"
  },
  "language_info": {
   "codemirror_mode": {
    "name": "ipython",
    "version": 3
   },
   "file_extension": ".py",
   "mimetype": "text/x-python",
   "name": "python",
   "nbconvert_exporter": "python",
   "pygments_lexer": "ipython3",
   "version": "3.8.2"
  }
 },
 "nbformat": 4,
 "nbformat_minor": 4
}
